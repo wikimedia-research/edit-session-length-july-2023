{
 "cells": [
  {
   "cell_type": "markdown",
   "id": "afe9e257-2861-4a2b-a553-25ee673f5fc4",
   "metadata": {
    "tags": []
   },
   "source": [
    "## imports"
   ]
  },
  {
   "cell_type": "code",
   "execution_count": 7,
   "id": "d6c7361f-7cfe-436b-a6a4-86ec1a544290",
   "metadata": {},
   "outputs": [],
   "source": [
    "import pandas as pd\n",
    "import numpy as np\n",
    "import wmfdata as wmf\n",
    "\n",
    "import seaborn as sns\n",
    "import matplotlib.pyplot as plt\n",
    "from matplotlib.ticker import FuncFormatter, FixedLocator\n",
    "\n",
    "from datetime import timedelta, datetime\n",
    "import warnings\n",
    "\n",
    "from IPython.display import display_html"
   ]
  },
  {
   "cell_type": "code",
   "execution_count": 2,
   "id": "41e93321-15eb-4e74-8ed4-e298227783d2",
   "metadata": {},
   "outputs": [],
   "source": [
    "pd.options.display.max_columns = None\n",
    "bold = '\\033[1m'\n",
    "end = '\\033[0m'"
   ]
  },
  {
   "cell_type": "markdown",
   "id": "7268df17-33bf-458b-b080-f0582037f190",
   "metadata": {
    "tags": []
   },
   "source": [
    "## spark_session"
   ]
  },
  {
   "cell_type": "code",
   "execution_count": 3,
   "id": "d806cae9-e969-494d-a83b-859386c184e7",
   "metadata": {},
   "outputs": [
    {
     "name": "stdout",
     "output_type": "stream",
     "text": [
      "no active session\n"
     ]
    }
   ],
   "source": [
    "spark_session = wmf.spark.get_active_session()\n",
    "\n",
    "if type(spark_session) != type(None):\n",
    "    spark_session.stop()\n",
    "else:\n",
    "    print('no active session')"
   ]
  },
  {
   "cell_type": "code",
   "execution_count": null,
   "id": "931d736b-3ae2-4f5d-9c54-f1754ca76624",
   "metadata": {},
   "outputs": [],
   "source": [
    "spark_session = wmf.spark.create_custom_session(\n",
    "    master=\"yarn\",\n",
    "    spark_config={\n",
    "        \"spark.driver.memory\": \"4g\",\n",
    "        \"spark.dynamicAllocation.maxExecutors\": 64,\n",
    "        \"spark.executor.memory\": \"16g\",\n",
    "        \"spark.executor.cores\": 4,\n",
    "        \"spark.sql.shuffle.partitions\": 256,\n",
    "        \"spark.driver.maxResultSize\": \"2g\"\n",
    "        \n",
    "    }\n",
    ")"
   ]
  },
  {
   "cell_type": "code",
   "execution_count": 5,
   "id": "d98f297e-d433-40a3-9e6f-69921fb34bd5",
   "metadata": {},
   "outputs": [
    {
     "data": {
      "text/html": [
       "\n",
       "            <div>\n",
       "                <p><b>SparkSession - hive</b></p>\n",
       "                \n",
       "        <div>\n",
       "            <p><b>SparkContext</b></p>\n",
       "\n",
       "            <p><a href=\"http://stat1005.eqiad.wmnet:4046\">Spark UI</a></p>\n",
       "\n",
       "            <dl>\n",
       "              <dt>Version</dt>\n",
       "                <dd><code>v3.1.2</code></dd>\n",
       "              <dt>Master</dt>\n",
       "                <dd><code>yarn</code></dd>\n",
       "              <dt>AppName</dt>\n",
       "                <dd><code>wmfdata-custom</code></dd>\n",
       "            </dl>\n",
       "        </div>\n",
       "        \n",
       "            </div>\n",
       "        "
      ],
      "text/plain": [
       "<pyspark.sql.session.SparkSession at 0x7f71e87687f0>"
      ]
     },
     "execution_count": 5,
     "metadata": {},
     "output_type": "execute_result"
    }
   ],
   "source": [
    "# ig_warn()\n",
    "# spark_session = wmf.spark.create_session(type='yarn-large')\n",
    "spark_session"
   ]
  },
  {
   "cell_type": "code",
   "execution_count": 6,
   "id": "79fdfc8e-9d02-435e-b3ea-47f7dd446929",
   "metadata": {},
   "outputs": [],
   "source": [
    "spark_session.sparkContext.setLogLevel(\"ERROR\")"
   ]
  },
  {
   "cell_type": "markdown",
   "id": "c6aa60da-6d57-41a3-a2ac-95b7692b2445",
   "metadata": {
    "tags": []
   },
   "source": [
    "## data gathering"
   ]
  },
  {
   "cell_type": "code",
   "execution_count": 24,
   "id": "e6f05232-be4c-4f04-a4dc-49720d8eed06",
   "metadata": {},
   "outputs": [
    {
     "name": "stderr",
     "output_type": "stream",
     "text": [
      "                                                                                \r"
     ]
    },
    {
     "name": "stdout",
     "output_type": "stream",
     "text": [
      "CPU times: user 2min 12s, sys: 30.2 s, total: 2min 42s\n",
      "Wall time: 4min 27s\n"
     ]
    },
    {
     "data": {
      "text/plain": [
       "(20033867, 9)"
      ]
     },
     "execution_count": 24,
     "metadata": {},
     "output_type": "execute_result"
    }
   ],
   "source": [
    "%%time\n",
    "\n",
    "query = \"\"\"\n",
    "WITH\n",
    "    sessions AS (\n",
    "        SELECT\n",
    "            event.editing_session_id AS session_id,\n",
    "            event.platform,\n",
    "            event.page_ns,\n",
    "            event.user_class,\n",
    "            SUM(CAST(event.action = 'init' AS INT)) AS init_count,\n",
    "            SUM(CAST(event.action = 'saveSuccess' AS INT)) AS save_success_count,\n",
    "            SUM(CAST(event.action = 'abort' AS INT)) AS abort_count,\n",
    "            MAX(client_dt) AS max_ts,\n",
    "            MIN(client_dt) AS min_ts\n",
    "        FROM\n",
    "            event.editattemptstep\n",
    "        WHERE\n",
    "            event.editor_interface = 'visualeditor' AND\n",
    "            NOT event.is_oversample AND\n",
    "            year = {YEAR} AND month = {MONTH}\n",
    "        GROUP BY\n",
    "            event.editing_session_id,\n",
    "            event.platform,\n",
    "            event.page_ns,\n",
    "            event.user_class\n",
    "    )\n",
    "\n",
    "SELECT *\n",
    "FROM sessions\n",
    "WHERE\n",
    "    init_count > 0 AND\n",
    "    ((save_success_count > 0) OR \n",
    "     (abort_count > 0))\n",
    "\"\"\"\n",
    "\n",
    "# query month-wise as querying all month is leading to Spark OutOfMemory Error\n",
    "sessions = pd.DataFrame()\n",
    "end_time = datetime.now() - timedelta(days=1)\n",
    "start_time = datetime.now() - timedelta(days=90)\n",
    "\n",
    "for month in pd.period_range(str(start_time.date()), str(end_time.date()), freq='M'):\n",
    "    monthly_records = wmf.spark.run(query.format(YEAR=month.year, MONTH=month.month))\n",
    "    sessions = pd.concat([sessions, monthly_records], ignore_index=True)\n",
    "    \n",
    "sessions.shape"
   ]
  },
  {
   "cell_type": "code",
   "execution_count": 25,
   "id": "e0933597-8ae6-4af0-8cad-bf0c3a695463",
   "metadata": {},
   "outputs": [
    {
     "name": "stdout",
     "output_type": "stream",
     "text": [
      "<class 'pandas.core.frame.DataFrame'>\n",
      "RangeIndex: 20033867 entries, 0 to 20033866\n",
      "Data columns (total 9 columns):\n",
      " #   Column              Dtype \n",
      "---  ------              ----- \n",
      " 0   session_id          object\n",
      " 1   platform            object\n",
      " 2   page_ns             int64 \n",
      " 3   user_class          object\n",
      " 4   init_count          int64 \n",
      " 5   save_success_count  int64 \n",
      " 6   abort_count         int64 \n",
      " 7   max_ts              object\n",
      " 8   min_ts              object\n",
      "dtypes: int64(4), object(5)\n",
      "memory usage: 1.3+ GB\n"
     ]
    }
   ],
   "source": [
    "# set explicit classes, as null values (i.e. user) are not displayed in Pandas count outputs\n",
    "\n",
    "def uclass_sort(user):\n",
    "    if user == 'IP':\n",
    "        return 'anon'\n",
    "    elif user == 'bot':\n",
    "        return 'bot'\n",
    "    else:\n",
    "        return 'user'\n",
    "    \n",
    "sessions['user_class'] = sessions['user_class'].apply(lambda x: uclass_sort(x))\n",
    "sessions.info()"
   ]
  },
  {
   "cell_type": "code",
   "execution_count": 26,
   "id": "d9568008-36bd-44b3-8aee-0f58acd1e08f",
   "metadata": {},
   "outputs": [],
   "source": [
    "# save to parquet\n",
    "parquet_file = 've_sessions_2023.parquet'\n",
    "sessions.to_parquet(parquet_file, index=False)"
   ]
  },
  {
   "cell_type": "code",
   "execution_count": 40,
   "id": "2d3cb91e-3d65-4a66-a164-499869fd0150",
   "metadata": {},
   "outputs": [],
   "source": [
    "sessions = pd.read_parquet(parquet_file)"
   ]
  },
  {
   "cell_type": "code",
   "execution_count": null,
   "id": "3f3749d2-0864-46dd-b1ff-1a08dee944da",
   "metadata": {},
   "outputs": [],
   "source": [
    "# format data types\n",
    "sessions = (\n",
    "    sessions\n",
    "    .assign(\n",
    "        min_ts=pd.to_datetime(sessions['min_ts'], utc=True),\n",
    "        max_ts=pd.to_datetime(sessions['max_ts'], utc=True),\n",
    "        platform=pd.Categorical(sessions['platform']),\n",
    "        user_class=pd.Categorical(sessions['user_class']))\n",
    "    .assign(\n",
    "        duration=lambda df: round((df[\"max_ts\"] - df[\"min_ts\"]).dt.total_seconds()).astype(int)))\n",
    "\n",
    "sessions.head(3)"
   ]
  },
  {
   "cell_type": "code",
   "execution_count": 42,
   "id": "e9a98893-cac6-4cc1-bfd6-279566daef57",
   "metadata": {},
   "outputs": [
    {
     "name": "stdout",
     "output_type": "stream",
     "text": [
      "<class 'pandas.core.frame.DataFrame'>\n",
      "RangeIndex: 20033867 entries, 0 to 20033866\n",
      "Data columns (total 10 columns):\n",
      " #   Column              Dtype              \n",
      "---  ------              -----              \n",
      " 0   session_id          object             \n",
      " 1   platform            category           \n",
      " 2   page_ns             int64              \n",
      " 3   user_class          category           \n",
      " 4   init_count          int64              \n",
      " 5   save_success_count  int64              \n",
      " 6   abort_count         int64              \n",
      " 7   max_ts              datetime64[ns, UTC]\n",
      " 8   min_ts              datetime64[ns, UTC]\n",
      " 9   duration            int64              \n",
      "dtypes: category(2), datetime64[ns, UTC](2), int64(5), object(1)\n",
      "memory usage: 1.2+ GB\n"
     ]
    }
   ],
   "source": [
    "sessions.info()"
   ]
  },
  {
   "cell_type": "code",
   "execution_count": 43,
   "id": "1f93417f-d039-47ae-b450-dd46648b5c35",
   "metadata": {},
   "outputs": [
    {
     "name": "stdout",
     "output_type": "stream",
     "text": [
      "successfuly completed sessions: 3696218\n",
      "aborted sessions: 16208443\n"
     ]
    }
   ],
   "source": [
    "# considering sessions only with either success or abort event, but not both\n",
    "# sessions with both success and abort events may be erroneous events that need further analysis\n",
    "completed = sessions.query(\"\"\"(save_success_count >= 1) & (abort_count == 0)\"\"\")\n",
    "print(f'successfuly completed sessions: {completed.shape[0]}')\n",
    "\n",
    "aborted = sessions.query(\"\"\"(abort_count >= 1) & (save_success_count == 0)\"\"\")\n",
    "print(f'aborted sessions: {aborted.shape[0]}')"
   ]
  },
  {
   "cell_type": "markdown",
   "id": "40f455bd-0ffe-4b1e-a38a-6f4ad4fea922",
   "metadata": {
    "tags": []
   },
   "source": [
    "## explore data"
   ]
  },
  {
   "cell_type": "markdown",
   "id": "bd671f80-6e4d-4fe8-a576-072b1e3cf07e",
   "metadata": {},
   "source": [
    "### successfully completed sessions\n",
    "<u>Summary:</u> Sessions with zero duration form a insignificant part of the overall number of successfully saved sessions (0.01%). Since including them will not result any substantial changes in the time to save distributions, we will be including them while plotting the histograms. A comparision of distribution percentiles by the way of treating zero duration sessions, is provided under the appendix."
   ]
  },
  {
   "cell_type": "code",
   "execution_count": 44,
   "id": "ec9a9fd4-1306-4662-a578-4eec07fa2f69",
   "metadata": {},
   "outputs": [
    {
     "name": "stdout",
     "output_type": "stream",
     "text": [
      "\u001b[1m percentage of zero duration sessions (of all completed sessions) \u001b[0m\n",
      "0.01% (of 3696218 completed sessions)\n"
     ]
    }
   ],
   "source": [
    "print(bold, 'percentage of zero duration sessions (of all completed sessions)', end)\n",
    "print(f'{round(completed.query(\"\"\"duration == 0\"\"\").shape[0] / completed.shape[0] * 100, 2)}% (of {completed.shape[0]} completed sessions)')"
   ]
  },
  {
   "cell_type": "code",
   "execution_count": 45,
   "id": "a71bcae8-68e1-4ee3-9ec3-92a2c23c2b4d",
   "metadata": {},
   "outputs": [
    {
     "name": "stdout",
     "output_type": "stream",
     "text": [
      "\u001b[1m median time to save for completed sessions, by platform \u001b[0m\n"
     ]
    },
    {
     "data": {
      "text/plain": [
       "platform\n",
       "desktop    83.0\n",
       "phone      62.0\n",
       "Name: duration, dtype: float64"
      ]
     },
     "execution_count": 45,
     "metadata": {},
     "output_type": "execute_result"
    }
   ],
   "source": [
    "print(bold, 'median time to save for completed sessions, by platform', end)\n",
    "completed.groupby('platform')['duration'].apply(np.median)"
   ]
  },
  {
   "cell_type": "code",
   "execution_count": 46,
   "id": "8c2309ec-5dd8-47e8-8928-d7fe6b32473b",
   "metadata": {},
   "outputs": [
    {
     "name": "stdout",
     "output_type": "stream",
     "text": [
      "\u001b[1m median time to save for completed sessions, by platform (excluding zero duration sessions) \u001b[0m\n"
     ]
    },
    {
     "data": {
      "text/plain": [
       "platform\n",
       "desktop    83.0\n",
       "phone      62.0\n",
       "Name: duration, dtype: float64"
      ]
     },
     "execution_count": 46,
     "metadata": {},
     "output_type": "execute_result"
    }
   ],
   "source": [
    "print(bold, 'median time to save for completed sessions, by platform (excluding zero duration sessions)', end)\n",
    "completed.query(\"\"\"duration > 0\"\"\").groupby('platform')['duration'].apply(np.median)"
   ]
  },
  {
   "cell_type": "code",
   "execution_count": 47,
   "id": "a052505a-272a-49bf-84bd-ac5dad65827f",
   "metadata": {},
   "outputs": [
    {
     "name": "stdout",
     "output_type": "stream",
     "text": [
      "\u001b[1m frequency of sessions with duration as zero by platform and userclass \u001b[0m\n"
     ]
    },
    {
     "data": {
      "text/plain": [
       "platform  user_class\n",
       "desktop   user          186\n",
       "phone     user           95\n",
       "desktop   anon           10\n",
       "phone     anon            3\n",
       "dtype: int64"
      ]
     },
     "execution_count": 47,
     "metadata": {},
     "output_type": "execute_result"
    }
   ],
   "source": [
    "print(bold, 'frequency of sessions with duration as zero by platform and userclass', end)\n",
    "completed.query(\"\"\"duration == 0\"\"\")[['platform', 'user_class']].value_counts()"
   ]
  },
  {
   "cell_type": "markdown",
   "id": "2e339709-2299-49bf-bca6-77d871bbe51e",
   "metadata": {
    "tags": []
   },
   "source": [
    "### aborted sessions\n",
    "<u>Summary</u> Unlike for completed sessions, number of zero durations among the aborted sessions are not non-trivial. The median shifts up by a second when zero are excluded (10% change). For plotting the histograms, we will be excluding the zero duration sessions, so as not to skew the results to imply less time taken. However, a comparision of distribution percentiles by the way of treating zero duration sessions, is provided under the appendix."
   ]
  },
  {
   "cell_type": "code",
   "execution_count": 48,
   "id": "1a70ced5-c1d3-454f-bafc-3fd698b33d4f",
   "metadata": {},
   "outputs": [
    {
     "name": "stdout",
     "output_type": "stream",
     "text": [
      "\u001b[1m percentage of zero duration sessions (of all aborted sessions) \u001b[0m\n",
      "0.64% (of 16208443 aborted sessions)\n"
     ]
    }
   ],
   "source": [
    "print(bold, 'percentage of zero duration sessions (of all aborted sessions)', end)\n",
    "print(f'{round(aborted.query(\"\"\"duration == 0\"\"\").shape[0] / aborted.shape[0] * 100, 2)}% (of {aborted.shape[0]} aborted sessions)')"
   ]
  },
  {
   "cell_type": "code",
   "execution_count": 49,
   "id": "3f2a6525-7878-43d1-bee8-f932fdcbe61e",
   "metadata": {},
   "outputs": [
    {
     "name": "stdout",
     "output_type": "stream",
     "text": [
      "\u001b[1m median time to abort, by platform \u001b[0m\n"
     ]
    },
    {
     "data": {
      "text/plain": [
       "platform\n",
       "desktop     6.0\n",
       "phone      10.0\n",
       "Name: duration, dtype: float64"
      ]
     },
     "execution_count": 49,
     "metadata": {},
     "output_type": "execute_result"
    }
   ],
   "source": [
    "print(bold, 'median time to abort, by platform', end)\n",
    "aborted.groupby('platform')['duration'].apply(np.median)"
   ]
  },
  {
   "cell_type": "code",
   "execution_count": 50,
   "id": "9d5b5f4a-77c7-4c6a-82e0-f34b74e3b049",
   "metadata": {},
   "outputs": [
    {
     "name": "stdout",
     "output_type": "stream",
     "text": [
      "\u001b[1m median time to abort, by platform (excluding zero duration sessions) \u001b[0m\n"
     ]
    },
    {
     "data": {
      "text/plain": [
       "platform\n",
       "desktop     6.0\n",
       "phone      11.0\n",
       "Name: duration, dtype: float64"
      ]
     },
     "execution_count": 50,
     "metadata": {},
     "output_type": "execute_result"
    }
   ],
   "source": [
    "print(bold, 'median time to abort, by platform (excluding zero duration sessions)', end)\n",
    "aborted.query(\"\"\"duration != 0\"\"\").groupby('platform')['duration'].apply(np.median)"
   ]
  },
  {
   "cell_type": "code",
   "execution_count": 54,
   "id": "c34e1767-6331-4765-a22c-0c91e13c5ffa",
   "metadata": {},
   "outputs": [
    {
     "data": {
      "text/plain": [
       "platform  user_class\n",
       "desktop   anon          81153\n",
       "phone     anon          13364\n",
       "desktop   user           6800\n",
       "phone     user           3049\n",
       "dtype: int64"
      ]
     },
     "execution_count": 54,
     "metadata": {},
     "output_type": "execute_result"
    }
   ],
   "source": [
    "aborted.query(\"\"\"duration == 0\"\"\")[['platform', 'user_class']].value_counts()"
   ]
  },
  {
   "cell_type": "markdown",
   "id": "1a5d9d2c-6cb3-42d7-bbc0-1f43187ff097",
   "metadata": {},
   "source": [
    "## histograms"
   ]
  },
  {
   "cell_type": "code",
   "execution_count": 52,
   "id": "6b2d2965-2b76-40bb-8670-0c04ef67ef3c",
   "metadata": {},
   "outputs": [],
   "source": [
    "# the plotting function has been built upon a similar analysis from 2018\n",
    "# https://github.com/wikimedia-research/2018-08-Editing-metrics-snapshots/blob/master/analysis.ipynb\n",
    "\n",
    "def generate_hist(ax, source_frame, title, \n",
    "                  col='duration', \n",
    "                  ylabel='number of sessions', \n",
    "                  legend_loc='upper right', \n",
    "                  anchor_pos=(1.5, 1), \n",
    "                  treat_zeros='exclude'):\n",
    "    \n",
    "    frame = source_frame.copy()\n",
    "    if treat_zeros == 'exclude':\n",
    "        frame = frame[frame[col] > 0]\n",
    "    elif treat_zeros == 'replace':\n",
    "        frame[col] = frame[col].replace(0, 1)\n",
    "    else:\n",
    "        pass\n",
    "    \n",
    "    ax = sns.histplot(data=frame, \n",
    "                      x=col, \n",
    "                      log_scale=True,\n",
    "                      bins = np.linspace(0, 4, 40), \n",
    "                      element='step',\n",
    "                      color='#DAA520'\n",
    "                 )\n",
    "    \n",
    "    def td_str(s):\n",
    "        return str(timedelta(seconds=int(s)))\n",
    "    \n",
    "    x_ticks = [1, 10, 60, 10*60, 60*60]\n",
    "    duration_ticks = FixedLocator(x_ticks)\n",
    "    duration_fmt = FuncFormatter(lambda x, pos: td_str(x))\n",
    "    \n",
    "    lines = [\n",
    "        (\"10th percentile ({})\", frame[col].quantile(0.1), \"#FF0000\"),\n",
    "        (\"50th percentile ({})\", frame[col].median(), \"#6B8E23\"),\n",
    "        (\"90th percentile ({})\", frame[col].quantile(0.9), \"#0000FF\")\n",
    "    ]\n",
    "    \n",
    "    for label, pos, color in lines:\n",
    "        ax.axvline(x=pos, color=color, label=label.format(td_str(pos)))\n",
    "    \n",
    "    ax.xaxis.set_major_locator(duration_ticks)\n",
    "    ax.xaxis.set_major_formatter(duration_fmt)\n",
    "    \n",
    "    ax.set_title(title)\n",
    "    ax.set_xlabel('time to save [%H:%M:%S] (log scale)')\n",
    "    ax.set_ylabel(ylabel)\n",
    "    \n",
    "    ax.legend(loc=legend_loc, bbox_to_anchor=anchor_pos)"
   ]
  },
  {
   "cell_type": "markdown",
   "id": "8c3b6d26-6a63-46c2-b50a-5c62887e3509",
   "metadata": {},
   "source": [
    "### successfully saved sessions"
   ]
  },
  {
   "cell_type": "code",
   "execution_count": 57,
   "id": "fa478282-13de-448e-a303-9aebb1a2a20d",
   "metadata": {},
   "outputs": [
    {
     "name": "stderr",
     "output_type": "stream",
     "text": [
      "/home/kcv-wikimf/.conda/envs/2023-03-31T07.02.22_kcv-wikimf/lib/python3.10/site-packages/pandas/core/arraylike.py:397: RuntimeWarning: divide by zero encountered in log10\n",
      "  result = getattr(ufunc, method)(*inputs, **kwargs)\n"
     ]
    },
    {
     "data": {
      "image/png": "[encoded data removed]",
      "text/plain": [
       "<Figure size 640x480 with 1 Axes>"
      ]
     },
     "metadata": {},
     "output_type": "display_data"
    }
   ],
   "source": [
    "fig, ax = plt.subplots()\n",
    "generate_hist(ax, completed.query(\"\"\"platform == 'desktop'\"\"\"), \n",
    "              title='Distribution of time to save on desktop devices\\n(incl. zero duration sessions)', \n",
    "              treat_zeros=None)"
   ]
  },
  {
   "cell_type": "code",
   "execution_count": 61,
   "id": "9f229eee-cdec-4285-b3a2-e5209b268c13",
   "metadata": {},
   "outputs": [
    {
     "name": "stderr",
     "output_type": "stream",
     "text": [
      "/home/kcv-wikimf/.conda/envs/2023-03-31T07.02.22_kcv-wikimf/lib/python3.10/site-packages/pandas/core/arraylike.py:397: RuntimeWarning: divide by zero encountered in log10\n",
      "  result = getattr(ufunc, method)(*inputs, **kwargs)\n"
     ]
    },
    {
     "data": {
      "image/png": "[encoded data removed]",
      "text/plain": [
       "<Figure size 640x480 with 1 Axes>"
      ]
     },
     "metadata": {},
     "output_type": "display_data"
    }
   ],
   "source": [
    "fig, ax = plt.subplots()\n",
    "generate_hist(ax, completed.query(\"\"\"platform == 'phone'\"\"\"), \n",
    "              title='Distribution of time to save on mobile devices\\n(incl. zero duration sessions)', \n",
    "              treat_zeros=None)"
   ]
  },
  {
   "cell_type": "markdown",
   "id": "9144d916-8e53-47cc-a6db-d6ffa6feb395",
   "metadata": {},
   "source": [
    "### aborted sessions"
   ]
  },
  {
   "cell_type": "code",
   "execution_count": 72,
   "id": "7e805a5c-f058-4d93-827b-5322225642ff",
   "metadata": {},
   "outputs": [
    {
     "data": {
      "image/png": "[encoded data removed]",
      "text/plain": [
       "<Figure size 640x480 with 1 Axes>"
      ]
     },
     "metadata": {},
     "output_type": "display_data"
    }
   ],
   "source": [
    "fig, ax = plt.subplots()\n",
    "generate_hist(ax, aborted.query(\"\"\"platform == 'desktop'\"\"\"), \n",
    "              title='Distribution of time to abort on desktop devices\\n(excl. zero duration sessions)', \n",
    "              treat_zeros='exclude')"
   ]
  },
  {
   "cell_type": "code",
   "execution_count": 71,
   "id": "70801759-1e1e-4d73-ab00-b820afb0c363",
   "metadata": {},
   "outputs": [
    {
     "data": {
      "image/png": "[encoded data removed]",
      "text/plain": [
       "<Figure size 640x480 with 1 Axes>"
      ]
     },
     "metadata": {},
     "output_type": "display_data"
    }
   ],
   "source": [
    "fig, ax = plt.subplots()\n",
    "generate_hist(ax, aborted.query(\"\"\"platform == 'phone'\"\"\"), \n",
    "              title='Distribution of time to abort on mobile devices\\n(excl. zero duration sessions)', \n",
    "              treat_zeros='exclude')"
   ]
  },
  {
   "cell_type": "markdown",
   "id": "f71fb95c-e944-40a3-ae6a-545ba35cf196",
   "metadata": {
    "tags": []
   },
   "source": [
    "## appendix"
   ]
  },
  {
   "cell_type": "code",
   "execution_count": 64,
   "id": "fb9155ef-36e4-499c-b64d-cbda62189843",
   "metadata": {},
   "outputs": [],
   "source": [
    "def quantiles(source_frame, platform, treat_zeros, col='duration'):\n",
    "    frame = source_frame.query(\"\"\"platform == @platform\"\"\")\n",
    "    \n",
    "    if treat_zeros == 'exclude':\n",
    "        frame = frame[frame[col] > 0]\n",
    "    elif treat_zeros == 'replace':\n",
    "        frame[col] = frame[col].replace(0, 1)\n",
    "    else:\n",
    "        pass\n",
    "    \n",
    "    qdict = {\n",
    "        '10th': frame[col].quantile(0.1),\n",
    "        '25th': frame[col].quantile(0.25),\n",
    "        '50th': frame[col].quantile(0.5),\n",
    "        '75th': frame[col].quantile(0.75),\n",
    "        '90th': frame[col].quantile(0.9)\n",
    "    }\n",
    "    \n",
    "    df = pd.DataFrame(qdict.values(),\n",
    "                      index=qdict.keys(),\n",
    "                      columns=['time (in seconds)'])\n",
    "    \n",
    "    df = df.astype({'time (in seconds)': int})\n",
    "    df.index.name = 'percentile'\n",
    "    \n",
    "    return df"
   ]
  },
  {
   "cell_type": "code",
   "execution_count": 65,
   "id": "8d2fcad9-b6f2-4b73-8a9c-b260de7106fd",
   "metadata": {},
   "outputs": [],
   "source": [
    "def display_h(frames, space=100):\n",
    "    html = \"\"\n",
    "    \n",
    "    for key in frames.keys():\n",
    "        html_df =f'<div>{key} {frames[key]._repr_html_()}</div>'\n",
    "        html += html_df\n",
    "        \n",
    "    html = f\"\"\"\n",
    "    <div style=\"display:flex; justify-content: space-evenly;\">\n",
    "    {html}\n",
    "    </div>\"\"\"\n",
    "    \n",
    "    display_html(html, raw=True)"
   ]
  },
  {
   "cell_type": "code",
   "execution_count": 66,
   "id": "09c3b62b-7786-40e0-8881-ce1b092dd241",
   "metadata": {},
   "outputs": [
    {
     "name": "stdout",
     "output_type": "stream",
     "text": [
      "\u001b[1m Distribution of time to save on desktop devices \u001b[0m\n"
     ]
    },
    {
     "data": {
      "text/html": [
       "\n",
       "    <div style=\"display:flex; justify-content: space-evenly;\">\n",
       "    <div>excluding zero duration sessions <div>\n",
       "<style scoped>\n",
       "    .dataframe tbody tr th:only-of-type {\n",
       "        vertical-align: middle;\n",
       "    }\n",
       "\n",
       "    .dataframe tbody tr th {\n",
       "        vertical-align: top;\n",
       "    }\n",
       "\n",
       "    .dataframe thead th {\n",
       "        text-align: right;\n",
       "    }\n",
       "</style>\n",
       "<table border=\"1\" class=\"dataframe\">\n",
       "  <thead>\n",
       "    <tr style=\"text-align: right;\">\n",
       "      <th></th>\n",
       "      <th>time (in seconds)</th>\n",
       "    </tr>\n",
       "    <tr>\n",
       "      <th>percentile</th>\n",
       "      <th></th>\n",
       "    </tr>\n",
       "  </thead>\n",
       "  <tbody>\n",
       "    <tr>\n",
       "      <th>10th</th>\n",
       "      <td>16</td>\n",
       "    </tr>\n",
       "    <tr>\n",
       "      <th>25th</th>\n",
       "      <td>32</td>\n",
       "    </tr>\n",
       "    <tr>\n",
       "      <th>50th</th>\n",
       "      <td>83</td>\n",
       "    </tr>\n",
       "    <tr>\n",
       "      <th>75th</th>\n",
       "      <td>272</td>\n",
       "    </tr>\n",
       "    <tr>\n",
       "      <th>90th</th>\n",
       "      <td>881</td>\n",
       "    </tr>\n",
       "  </tbody>\n",
       "</table>\n",
       "</div></div><div>including zero duration sessions <div>\n",
       "<style scoped>\n",
       "    .dataframe tbody tr th:only-of-type {\n",
       "        vertical-align: middle;\n",
       "    }\n",
       "\n",
       "    .dataframe tbody tr th {\n",
       "        vertical-align: top;\n",
       "    }\n",
       "\n",
       "    .dataframe thead th {\n",
       "        text-align: right;\n",
       "    }\n",
       "</style>\n",
       "<table border=\"1\" class=\"dataframe\">\n",
       "  <thead>\n",
       "    <tr style=\"text-align: right;\">\n",
       "      <th></th>\n",
       "      <th>time (in seconds)</th>\n",
       "    </tr>\n",
       "    <tr>\n",
       "      <th>percentile</th>\n",
       "      <th></th>\n",
       "    </tr>\n",
       "  </thead>\n",
       "  <tbody>\n",
       "    <tr>\n",
       "      <th>10th</th>\n",
       "      <td>16</td>\n",
       "    </tr>\n",
       "    <tr>\n",
       "      <th>25th</th>\n",
       "      <td>32</td>\n",
       "    </tr>\n",
       "    <tr>\n",
       "      <th>50th</th>\n",
       "      <td>83</td>\n",
       "    </tr>\n",
       "    <tr>\n",
       "      <th>75th</th>\n",
       "      <td>272</td>\n",
       "    </tr>\n",
       "    <tr>\n",
       "      <th>90th</th>\n",
       "      <td>881</td>\n",
       "    </tr>\n",
       "  </tbody>\n",
       "</table>\n",
       "</div></div><div>zero duration replaced by 1 sec <div>\n",
       "<style scoped>\n",
       "    .dataframe tbody tr th:only-of-type {\n",
       "        vertical-align: middle;\n",
       "    }\n",
       "\n",
       "    .dataframe tbody tr th {\n",
       "        vertical-align: top;\n",
       "    }\n",
       "\n",
       "    .dataframe thead th {\n",
       "        text-align: right;\n",
       "    }\n",
       "</style>\n",
       "<table border=\"1\" class=\"dataframe\">\n",
       "  <thead>\n",
       "    <tr style=\"text-align: right;\">\n",
       "      <th></th>\n",
       "      <th>time (in seconds)</th>\n",
       "    </tr>\n",
       "    <tr>\n",
       "      <th>percentile</th>\n",
       "      <th></th>\n",
       "    </tr>\n",
       "  </thead>\n",
       "  <tbody>\n",
       "    <tr>\n",
       "      <th>10th</th>\n",
       "      <td>16</td>\n",
       "    </tr>\n",
       "    <tr>\n",
       "      <th>25th</th>\n",
       "      <td>32</td>\n",
       "    </tr>\n",
       "    <tr>\n",
       "      <th>50th</th>\n",
       "      <td>83</td>\n",
       "    </tr>\n",
       "    <tr>\n",
       "      <th>75th</th>\n",
       "      <td>272</td>\n",
       "    </tr>\n",
       "    <tr>\n",
       "      <th>90th</th>\n",
       "      <td>881</td>\n",
       "    </tr>\n",
       "  </tbody>\n",
       "</table>\n",
       "</div></div>\n",
       "    </div>"
      ]
     },
     "metadata": {},
     "output_type": "display_data"
    }
   ],
   "source": [
    "warnings.filterwarnings('ignore')\n",
    "\n",
    "print(bold, 'Distribution of time to save on desktop devices', end)\n",
    "display_h({\n",
    "    'excluding zero duration sessions': quantiles(completed, 'desktop', 'exclude'),\n",
    "    'including zero duration sessions': quantiles(completed, 'desktop', None),\n",
    "    'zero duration replaced by 1 sec': quantiles(completed, 'desktop', 'replace')\n",
    "})"
   ]
  },
  {
   "cell_type": "code",
   "execution_count": 67,
   "id": "71e579d1-7815-40f1-b519-a0d27d551073",
   "metadata": {},
   "outputs": [
    {
     "name": "stdout",
     "output_type": "stream",
     "text": [
      "\u001b[1m Distribution of time to save on mobile devices \u001b[0m\n"
     ]
    },
    {
     "data": {
      "text/html": [
       "\n",
       "    <div style=\"display:flex; justify-content: space-evenly;\">\n",
       "    <div>excluding zero duration sessions <div>\n",
       "<style scoped>\n",
       "    .dataframe tbody tr th:only-of-type {\n",
       "        vertical-align: middle;\n",
       "    }\n",
       "\n",
       "    .dataframe tbody tr th {\n",
       "        vertical-align: top;\n",
       "    }\n",
       "\n",
       "    .dataframe thead th {\n",
       "        text-align: right;\n",
       "    }\n",
       "</style>\n",
       "<table border=\"1\" class=\"dataframe\">\n",
       "  <thead>\n",
       "    <tr style=\"text-align: right;\">\n",
       "      <th></th>\n",
       "      <th>time (in seconds)</th>\n",
       "    </tr>\n",
       "    <tr>\n",
       "      <th>percentile</th>\n",
       "      <th></th>\n",
       "    </tr>\n",
       "  </thead>\n",
       "  <tbody>\n",
       "    <tr>\n",
       "      <th>10th</th>\n",
       "      <td>17</td>\n",
       "    </tr>\n",
       "    <tr>\n",
       "      <th>25th</th>\n",
       "      <td>30</td>\n",
       "    </tr>\n",
       "    <tr>\n",
       "      <th>50th</th>\n",
       "      <td>62</td>\n",
       "    </tr>\n",
       "    <tr>\n",
       "      <th>75th</th>\n",
       "      <td>145</td>\n",
       "    </tr>\n",
       "    <tr>\n",
       "      <th>90th</th>\n",
       "      <td>346</td>\n",
       "    </tr>\n",
       "  </tbody>\n",
       "</table>\n",
       "</div></div><div>including zero duration sessions <div>\n",
       "<style scoped>\n",
       "    .dataframe tbody tr th:only-of-type {\n",
       "        vertical-align: middle;\n",
       "    }\n",
       "\n",
       "    .dataframe tbody tr th {\n",
       "        vertical-align: top;\n",
       "    }\n",
       "\n",
       "    .dataframe thead th {\n",
       "        text-align: right;\n",
       "    }\n",
       "</style>\n",
       "<table border=\"1\" class=\"dataframe\">\n",
       "  <thead>\n",
       "    <tr style=\"text-align: right;\">\n",
       "      <th></th>\n",
       "      <th>time (in seconds)</th>\n",
       "    </tr>\n",
       "    <tr>\n",
       "      <th>percentile</th>\n",
       "      <th></th>\n",
       "    </tr>\n",
       "  </thead>\n",
       "  <tbody>\n",
       "    <tr>\n",
       "      <th>10th</th>\n",
       "      <td>17</td>\n",
       "    </tr>\n",
       "    <tr>\n",
       "      <th>25th</th>\n",
       "      <td>30</td>\n",
       "    </tr>\n",
       "    <tr>\n",
       "      <th>50th</th>\n",
       "      <td>62</td>\n",
       "    </tr>\n",
       "    <tr>\n",
       "      <th>75th</th>\n",
       "      <td>145</td>\n",
       "    </tr>\n",
       "    <tr>\n",
       "      <th>90th</th>\n",
       "      <td>345</td>\n",
       "    </tr>\n",
       "  </tbody>\n",
       "</table>\n",
       "</div></div><div>zero duration replaced by 1 sec <div>\n",
       "<style scoped>\n",
       "    .dataframe tbody tr th:only-of-type {\n",
       "        vertical-align: middle;\n",
       "    }\n",
       "\n",
       "    .dataframe tbody tr th {\n",
       "        vertical-align: top;\n",
       "    }\n",
       "\n",
       "    .dataframe thead th {\n",
       "        text-align: right;\n",
       "    }\n",
       "</style>\n",
       "<table border=\"1\" class=\"dataframe\">\n",
       "  <thead>\n",
       "    <tr style=\"text-align: right;\">\n",
       "      <th></th>\n",
       "      <th>time (in seconds)</th>\n",
       "    </tr>\n",
       "    <tr>\n",
       "      <th>percentile</th>\n",
       "      <th></th>\n",
       "    </tr>\n",
       "  </thead>\n",
       "  <tbody>\n",
       "    <tr>\n",
       "      <th>10th</th>\n",
       "      <td>17</td>\n",
       "    </tr>\n",
       "    <tr>\n",
       "      <th>25th</th>\n",
       "      <td>30</td>\n",
       "    </tr>\n",
       "    <tr>\n",
       "      <th>50th</th>\n",
       "      <td>62</td>\n",
       "    </tr>\n",
       "    <tr>\n",
       "      <th>75th</th>\n",
       "      <td>145</td>\n",
       "    </tr>\n",
       "    <tr>\n",
       "      <th>90th</th>\n",
       "      <td>345</td>\n",
       "    </tr>\n",
       "  </tbody>\n",
       "</table>\n",
       "</div></div>\n",
       "    </div>"
      ]
     },
     "metadata": {},
     "output_type": "display_data"
    }
   ],
   "source": [
    "warnings.filterwarnings('ignore')\n",
    "\n",
    "print(bold, 'Distribution of time to save on mobile devices', end)\n",
    "display_h({\n",
    "    'excluding zero duration sessions': quantiles(completed, 'phone', 'exclude'),\n",
    "    'including zero duration sessions': quantiles(completed, 'phone', None),\n",
    "    'zero duration replaced by 1 sec': quantiles(completed, 'phone', 'replace')\n",
    "})"
   ]
  },
  {
   "cell_type": "code",
   "execution_count": 68,
   "id": "8234e18f-d6f9-4e3f-b029-754b87c1272a",
   "metadata": {},
   "outputs": [
    {
     "name": "stdout",
     "output_type": "stream",
     "text": [
      "\u001b[1m Distribution of time to abort on desktop devices \u001b[0m\n"
     ]
    },
    {
     "data": {
      "text/html": [
       "\n",
       "    <div style=\"display:flex; justify-content: space-evenly;\">\n",
       "    <div>excluding zero duration sessions <div>\n",
       "<style scoped>\n",
       "    .dataframe tbody tr th:only-of-type {\n",
       "        vertical-align: middle;\n",
       "    }\n",
       "\n",
       "    .dataframe tbody tr th {\n",
       "        vertical-align: top;\n",
       "    }\n",
       "\n",
       "    .dataframe thead th {\n",
       "        text-align: right;\n",
       "    }\n",
       "</style>\n",
       "<table border=\"1\" class=\"dataframe\">\n",
       "  <thead>\n",
       "    <tr style=\"text-align: right;\">\n",
       "      <th></th>\n",
       "      <th>time (in seconds)</th>\n",
       "    </tr>\n",
       "    <tr>\n",
       "      <th>percentile</th>\n",
       "      <th></th>\n",
       "    </tr>\n",
       "  </thead>\n",
       "  <tbody>\n",
       "    <tr>\n",
       "      <th>10th</th>\n",
       "      <td>2</td>\n",
       "    </tr>\n",
       "    <tr>\n",
       "      <th>25th</th>\n",
       "      <td>3</td>\n",
       "    </tr>\n",
       "    <tr>\n",
       "      <th>50th</th>\n",
       "      <td>6</td>\n",
       "    </tr>\n",
       "    <tr>\n",
       "      <th>75th</th>\n",
       "      <td>15</td>\n",
       "    </tr>\n",
       "    <tr>\n",
       "      <th>90th</th>\n",
       "      <td>80</td>\n",
       "    </tr>\n",
       "  </tbody>\n",
       "</table>\n",
       "</div></div><div>including zero duration sessions <div>\n",
       "<style scoped>\n",
       "    .dataframe tbody tr th:only-of-type {\n",
       "        vertical-align: middle;\n",
       "    }\n",
       "\n",
       "    .dataframe tbody tr th {\n",
       "        vertical-align: top;\n",
       "    }\n",
       "\n",
       "    .dataframe thead th {\n",
       "        text-align: right;\n",
       "    }\n",
       "</style>\n",
       "<table border=\"1\" class=\"dataframe\">\n",
       "  <thead>\n",
       "    <tr style=\"text-align: right;\">\n",
       "      <th></th>\n",
       "      <th>time (in seconds)</th>\n",
       "    </tr>\n",
       "    <tr>\n",
       "      <th>percentile</th>\n",
       "      <th></th>\n",
       "    </tr>\n",
       "  </thead>\n",
       "  <tbody>\n",
       "    <tr>\n",
       "      <th>10th</th>\n",
       "      <td>2</td>\n",
       "    </tr>\n",
       "    <tr>\n",
       "      <th>25th</th>\n",
       "      <td>3</td>\n",
       "    </tr>\n",
       "    <tr>\n",
       "      <th>50th</th>\n",
       "      <td>6</td>\n",
       "    </tr>\n",
       "    <tr>\n",
       "      <th>75th</th>\n",
       "      <td>15</td>\n",
       "    </tr>\n",
       "    <tr>\n",
       "      <th>90th</th>\n",
       "      <td>79</td>\n",
       "    </tr>\n",
       "  </tbody>\n",
       "</table>\n",
       "</div></div><div>zero duration replaced by 1 sec <div>\n",
       "<style scoped>\n",
       "    .dataframe tbody tr th:only-of-type {\n",
       "        vertical-align: middle;\n",
       "    }\n",
       "\n",
       "    .dataframe tbody tr th {\n",
       "        vertical-align: top;\n",
       "    }\n",
       "\n",
       "    .dataframe thead th {\n",
       "        text-align: right;\n",
       "    }\n",
       "</style>\n",
       "<table border=\"1\" class=\"dataframe\">\n",
       "  <thead>\n",
       "    <tr style=\"text-align: right;\">\n",
       "      <th></th>\n",
       "      <th>time (in seconds)</th>\n",
       "    </tr>\n",
       "    <tr>\n",
       "      <th>percentile</th>\n",
       "      <th></th>\n",
       "    </tr>\n",
       "  </thead>\n",
       "  <tbody>\n",
       "    <tr>\n",
       "      <th>10th</th>\n",
       "      <td>2</td>\n",
       "    </tr>\n",
       "    <tr>\n",
       "      <th>25th</th>\n",
       "      <td>3</td>\n",
       "    </tr>\n",
       "    <tr>\n",
       "      <th>50th</th>\n",
       "      <td>6</td>\n",
       "    </tr>\n",
       "    <tr>\n",
       "      <th>75th</th>\n",
       "      <td>15</td>\n",
       "    </tr>\n",
       "    <tr>\n",
       "      <th>90th</th>\n",
       "      <td>79</td>\n",
       "    </tr>\n",
       "  </tbody>\n",
       "</table>\n",
       "</div></div>\n",
       "    </div>"
      ]
     },
     "metadata": {},
     "output_type": "display_data"
    }
   ],
   "source": [
    "warnings.filterwarnings('ignore')\n",
    "\n",
    "print(bold, 'Distribution of time to abort on desktop devices', end)\n",
    "display_h({\n",
    "    'excluding zero duration sessions': quantiles(aborted, 'desktop', 'exclude'),\n",
    "    'including zero duration sessions': quantiles(aborted, 'desktop', None),\n",
    "    'zero duration replaced by 1 sec': quantiles(aborted, 'desktop', 'replace')\n",
    "})"
   ]
  },
  {
   "cell_type": "code",
   "execution_count": 69,
   "id": "1c5ae06a-cccc-43f4-b465-8bcbd991afbc",
   "metadata": {},
   "outputs": [
    {
     "name": "stdout",
     "output_type": "stream",
     "text": [
      "\u001b[1m Distribution of time to abort on mobile devices \u001b[0m\n"
     ]
    },
    {
     "data": {
      "text/html": [
       "\n",
       "    <div style=\"display:flex; justify-content: space-evenly;\">\n",
       "    <div>excluding zero duration sessions <div>\n",
       "<style scoped>\n",
       "    .dataframe tbody tr th:only-of-type {\n",
       "        vertical-align: middle;\n",
       "    }\n",
       "\n",
       "    .dataframe tbody tr th {\n",
       "        vertical-align: top;\n",
       "    }\n",
       "\n",
       "    .dataframe thead th {\n",
       "        text-align: right;\n",
       "    }\n",
       "</style>\n",
       "<table border=\"1\" class=\"dataframe\">\n",
       "  <thead>\n",
       "    <tr style=\"text-align: right;\">\n",
       "      <th></th>\n",
       "      <th>time (in seconds)</th>\n",
       "    </tr>\n",
       "    <tr>\n",
       "      <th>percentile</th>\n",
       "      <th></th>\n",
       "    </tr>\n",
       "  </thead>\n",
       "  <tbody>\n",
       "    <tr>\n",
       "      <th>10th</th>\n",
       "      <td>2</td>\n",
       "    </tr>\n",
       "    <tr>\n",
       "      <th>25th</th>\n",
       "      <td>4</td>\n",
       "    </tr>\n",
       "    <tr>\n",
       "      <th>50th</th>\n",
       "      <td>11</td>\n",
       "    </tr>\n",
       "    <tr>\n",
       "      <th>75th</th>\n",
       "      <td>33</td>\n",
       "    </tr>\n",
       "    <tr>\n",
       "      <th>90th</th>\n",
       "      <td>93</td>\n",
       "    </tr>\n",
       "  </tbody>\n",
       "</table>\n",
       "</div></div><div>including zero duration sessions <div>\n",
       "<style scoped>\n",
       "    .dataframe tbody tr th:only-of-type {\n",
       "        vertical-align: middle;\n",
       "    }\n",
       "\n",
       "    .dataframe tbody tr th {\n",
       "        vertical-align: top;\n",
       "    }\n",
       "\n",
       "    .dataframe thead th {\n",
       "        text-align: right;\n",
       "    }\n",
       "</style>\n",
       "<table border=\"1\" class=\"dataframe\">\n",
       "  <thead>\n",
       "    <tr style=\"text-align: right;\">\n",
       "      <th></th>\n",
       "      <th>time (in seconds)</th>\n",
       "    </tr>\n",
       "    <tr>\n",
       "      <th>percentile</th>\n",
       "      <th></th>\n",
       "    </tr>\n",
       "  </thead>\n",
       "  <tbody>\n",
       "    <tr>\n",
       "      <th>10th</th>\n",
       "      <td>2</td>\n",
       "    </tr>\n",
       "    <tr>\n",
       "      <th>25th</th>\n",
       "      <td>4</td>\n",
       "    </tr>\n",
       "    <tr>\n",
       "      <th>50th</th>\n",
       "      <td>10</td>\n",
       "    </tr>\n",
       "    <tr>\n",
       "      <th>75th</th>\n",
       "      <td>33</td>\n",
       "    </tr>\n",
       "    <tr>\n",
       "      <th>90th</th>\n",
       "      <td>91</td>\n",
       "    </tr>\n",
       "  </tbody>\n",
       "</table>\n",
       "</div></div><div>zero duration replaced by 1 sec <div>\n",
       "<style scoped>\n",
       "    .dataframe tbody tr th:only-of-type {\n",
       "        vertical-align: middle;\n",
       "    }\n",
       "\n",
       "    .dataframe tbody tr th {\n",
       "        vertical-align: top;\n",
       "    }\n",
       "\n",
       "    .dataframe thead th {\n",
       "        text-align: right;\n",
       "    }\n",
       "</style>\n",
       "<table border=\"1\" class=\"dataframe\">\n",
       "  <thead>\n",
       "    <tr style=\"text-align: right;\">\n",
       "      <th></th>\n",
       "      <th>time (in seconds)</th>\n",
       "    </tr>\n",
       "    <tr>\n",
       "      <th>percentile</th>\n",
       "      <th></th>\n",
       "    </tr>\n",
       "  </thead>\n",
       "  <tbody>\n",
       "    <tr>\n",
       "      <th>10th</th>\n",
       "      <td>2</td>\n",
       "    </tr>\n",
       "    <tr>\n",
       "      <th>25th</th>\n",
       "      <td>4</td>\n",
       "    </tr>\n",
       "    <tr>\n",
       "      <th>50th</th>\n",
       "      <td>10</td>\n",
       "    </tr>\n",
       "    <tr>\n",
       "      <th>75th</th>\n",
       "      <td>33</td>\n",
       "    </tr>\n",
       "    <tr>\n",
       "      <th>90th</th>\n",
       "      <td>91</td>\n",
       "    </tr>\n",
       "  </tbody>\n",
       "</table>\n",
       "</div></div>\n",
       "    </div>"
      ]
     },
     "metadata": {},
     "output_type": "display_data"
    }
   ],
   "source": [
    "warnings.filterwarnings('ignore')\n",
    "\n",
    "print(bold, 'Distribution of time to abort on mobile devices', end)\n",
    "display_h({\n",
    "    'excluding zero duration sessions': quantiles(aborted, 'phone', 'exclude'),\n",
    "    'including zero duration sessions': quantiles(aborted, 'phone', None),\n",
    "    'zero duration replaced by 1 sec': quantiles(aborted, 'phone', 'replace')\n",
    "})"
   ]
  }
 ],
 "metadata": {
  "kernelspec": {
   "display_name": "Python 3 (ipykernel)",
   "language": "python",
   "name": "python3"
  },
  "language_info": {
   "codemirror_mode": {
    "name": "ipython",
    "version": 3
   },
   "file_extension": ".py",
   "mimetype": "text/x-python",
   "name": "python",
   "nbconvert_exporter": "python",
   "pygments_lexer": "ipython3",
   "version": "3.10.8"
  }
 },
 "nbformat": 4,
 "nbformat_minor": 5
}
