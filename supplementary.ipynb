{
 "cells": [
  {
   "cell_type": "code",
   "execution_count": 1,
   "id": "1b8175f3-0270-458b-a0f3-e55d950732ab",
   "metadata": {},
   "outputs": [],
   "source": [
    "import pandas as pd\n",
    "import numpy as np\n",
    "import wmfdata as wmf\n",
    "\n",
    "from datetime import timedelta\n",
    "import warnings"
   ]
  },
  {
   "cell_type": "markdown",
   "id": "34b79190-06dc-4d01-8096-b30fd3b153f3",
   "metadata": {
    "tags": []
   },
   "source": [
    "## spark_session"
   ]
  },
  {
   "cell_type": "code",
   "execution_count": 2,
   "id": "35d7dcf0-4db3-441b-8eb0-7701bc8a9efa",
   "metadata": {},
   "outputs": [
    {
     "name": "stdout",
     "output_type": "stream",
     "text": [
      "no active session\n"
     ]
    }
   ],
   "source": [
    "spark_session = wmf.spark.get_active_session()\n",
    "\n",
    "if type(spark_session) != type(None):\n",
    "    spark_session.stop()\n",
    "else:\n",
    "    print('no active session')"
   ]
  },
  {
   "cell_type": "code",
   "execution_count": null,
   "id": "dc299e49-c0f5-4cca-ab41-59619d1f80de",
   "metadata": {},
   "outputs": [],
   "source": [
    "spark_session = wmf.spark.create_session()"
   ]
  },
  {
   "cell_type": "code",
   "execution_count": 5,
   "id": "81ede854-778d-4fe7-8d68-3463fccd9962",
   "metadata": {},
   "outputs": [],
   "source": [
    "spark_session.sparkContext.setLogLevel(\"ERROR\")"
   ]
  },
  {
   "cell_type": "markdown",
   "id": "d5924435-3780-459b-98ed-083c1697e730",
   "metadata": {
    "tags": []
   },
   "source": [
    "## analysis"
   ]
  },
  {
   "cell_type": "code",
   "execution_count": 31,
   "id": "2fbf220c-44a9-4e51-b3d2-18f0c8e4a212",
   "metadata": {},
   "outputs": [
    {
     "name": "stderr",
     "output_type": "stream",
     "text": [
      "                                                                                \r"
     ]
    }
   ],
   "source": [
    "query = \"\"\"\n",
    "WITH\n",
    "    sessions AS (\n",
    "        SELECT\n",
    "            event.editing_session_id AS session_id,\n",
    "            event.platform,\n",
    "            event.page_ns,\n",
    "            event.user_class,\n",
    "            SUM(CAST(event.action = 'init' AS INT)) AS init_count,\n",
    "            SUM(CAST(event.action = 'saveSuccess' AS INT)) AS save_success_count,\n",
    "            SUM(CAST(event.action = 'abort' AS INT)) AS abort_count,\n",
    "            SUM(CAST(event.action = 'saveFailure' AS INT)) AS save_failure_count,\n",
    "            MAX(dt) AS max_ts,\n",
    "            MIN(dt) AS min_ts,\n",
    "            month\n",
    "        FROM\n",
    "            event_sanitized.editattemptstep\n",
    "        WHERE\n",
    "            event.editor_interface = 'visualeditor' AND\n",
    "            NOT event.is_oversample AND\n",
    "            year = 2023 AND month <=6\n",
    "        GROUP BY\n",
    "            event.editing_session_id,\n",
    "            event.platform,\n",
    "            event.page_ns,\n",
    "            event.user_class,\n",
    "            month\n",
    "    )\n",
    "\n",
    "SELECT\n",
    "    month,\n",
    "    COUNT(DISTINCT session_id) AS all_sessions,\n",
    "    COUNT(DISTINCT (CASE WHEN init_count = 0 THEN session_id END)) AS zero_inits,\n",
    "    COUNT(DISTINCT (CASE WHEN init_count > 1 THEN session_id END)) AS multi_inits,\n",
    "    COUNT(DISTINCT (CASE WHEN (init_count >0 AND save_success_count = 0 AND abort_count = 0 AND save_failure_count = 0) THEN session_id END)) AS zero_outcomes,\n",
    "    COUNT(DISTINCT (CASE WHEN (save_success_count > 1 AND abort_count > 1) THEN session_id END)) AS save_abort\n",
    "FROM \n",
    "    sessions \n",
    "GROUP BY \n",
    "    month\n",
    "ORDER BY\n",
    "    month\n",
    "\"\"\"\n",
    "\n",
    "result = wmf.spark.run(query)"
   ]
  },
  {
   "cell_type": "code",
   "execution_count": 32,
   "id": "6b53ef2b-ec32-4203-bf82-bed06ff917e8",
   "metadata": {},
   "outputs": [
    {
     "data": {
      "text/html": [
       "<div>\n",
       "<style scoped>\n",
       "    .dataframe tbody tr th:only-of-type {\n",
       "        vertical-align: middle;\n",
       "    }\n",
       "\n",
       "    .dataframe tbody tr th {\n",
       "        vertical-align: top;\n",
       "    }\n",
       "\n",
       "    .dataframe thead th {\n",
       "        text-align: right;\n",
       "    }\n",
       "</style>\n",
       "<table border=\"1\" class=\"dataframe\">\n",
       "  <thead>\n",
       "    <tr style=\"text-align: right;\">\n",
       "      <th></th>\n",
       "      <th>month</th>\n",
       "      <th>all_sessions</th>\n",
       "      <th>zero_inits</th>\n",
       "      <th>multi_inits</th>\n",
       "      <th>zero_outcomes</th>\n",
       "      <th>save_abort</th>\n",
       "    </tr>\n",
       "  </thead>\n",
       "  <tbody>\n",
       "    <tr>\n",
       "      <th>0</th>\n",
       "      <td>1</td>\n",
       "      <td>10539487</td>\n",
       "      <td>224724</td>\n",
       "      <td>3538</td>\n",
       "      <td>1552832</td>\n",
       "      <td>189</td>\n",
       "    </tr>\n",
       "    <tr>\n",
       "      <th>1</th>\n",
       "      <td>2</td>\n",
       "      <td>9221142</td>\n",
       "      <td>195755</td>\n",
       "      <td>3155</td>\n",
       "      <td>1329948</td>\n",
       "      <td>197</td>\n",
       "    </tr>\n",
       "    <tr>\n",
       "      <th>2</th>\n",
       "      <td>3</td>\n",
       "      <td>10037346</td>\n",
       "      <td>212781</td>\n",
       "      <td>3533</td>\n",
       "      <td>1459611</td>\n",
       "      <td>210</td>\n",
       "    </tr>\n",
       "    <tr>\n",
       "      <th>3</th>\n",
       "      <td>4</td>\n",
       "      <td>9449683</td>\n",
       "      <td>200310</td>\n",
       "      <td>4949</td>\n",
       "      <td>2328152</td>\n",
       "      <td>201</td>\n",
       "    </tr>\n",
       "    <tr>\n",
       "      <th>4</th>\n",
       "      <td>5</td>\n",
       "      <td>9951207</td>\n",
       "      <td>203356</td>\n",
       "      <td>5078</td>\n",
       "      <td>2476765</td>\n",
       "      <td>223</td>\n",
       "    </tr>\n",
       "    <tr>\n",
       "      <th>5</th>\n",
       "      <td>6</td>\n",
       "      <td>8762817</td>\n",
       "      <td>189110</td>\n",
       "      <td>4237</td>\n",
       "      <td>2168110</td>\n",
       "      <td>146</td>\n",
       "    </tr>\n",
       "  </tbody>\n",
       "</table>\n",
       "</div>"
      ],
      "text/plain": [
       "   month  all_sessions  zero_inits  multi_inits  zero_outcomes  save_abort\n",
       "0      1      10539487      224724         3538        1552832         189\n",
       "1      2       9221142      195755         3155        1329948         197\n",
       "2      3      10037346      212781         3533        1459611         210\n",
       "3      4       9449683      200310         4949        2328152         201\n",
       "4      5       9951207      203356         5078        2476765         223\n",
       "5      6       8762817      189110         4237        2168110         146"
      ]
     },
     "execution_count": 32,
     "metadata": {},
     "output_type": "execute_result"
    }
   ],
   "source": [
    "result"
   ]
  }
 ],
 "metadata": {
  "kernelspec": {
   "display_name": "Python 3 (ipykernel)",
   "language": "python",
   "name": "python3"
  },
  "language_info": {
   "codemirror_mode": {
    "name": "ipython",
    "version": 3
   },
   "file_extension": ".py",
   "mimetype": "text/x-python",
   "name": "python",
   "nbconvert_exporter": "python",
   "pygments_lexer": "ipython3",
   "version": "3.10.8"
  }
 },
 "nbformat": 4,
 "nbformat_minor": 5
}
